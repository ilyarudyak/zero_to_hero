{
 "cells": [
  {
   "cell_type": "code",
   "execution_count": 1,
   "metadata": {},
   "outputs": [],
   "source": [
    "import micrograd.engine as me\n",
    "import math\n",
    "import numpy as np\n",
    "import matplotlib.pyplot as plt\n",
    "from value import Value\n",
    "import graph_plotting as gp\n",
    "from graphviz import Digraph\n",
    "\n",
    "%load_ext autoreload\n",
    "%autoreload 2"
   ]
  },
  {
   "cell_type": "markdown",
   "metadata": {},
   "source": [
    "## Micrograd example usage"
   ]
  },
  {
   "cell_type": "markdown",
   "metadata": {},
   "source": [
    "#### Iteration #1"
   ]
  },
  {
   "cell_type": "code",
   "execution_count": 2,
   "metadata": {},
   "outputs": [
    {
     "name": "stdout",
     "output_type": "stream",
     "text": [
      "-2.0000\n",
      "1.0000\n",
      "1.0000\n"
     ]
    }
   ],
   "source": [
    "a = me.Value(-4.0)\n",
    "b = me.Value(2.0)\n",
    "g = a + b\n",
    "\n",
    "# prints the outcome of this forward pass\n",
    "print(f'{g.data:.4f}') \n",
    "g.backward()\n",
    "# prints the numerical value of dg/da\n",
    "print(f'{a.grad:.4f}') \n",
    "# prints the numerical value of dg/db\n",
    "print(f'{b.grad:.4f}') "
   ]
  },
  {
   "cell_type": "markdown",
   "metadata": {},
   "source": [
    "#### Iteration #2"
   ]
  },
  {
   "cell_type": "code",
   "execution_count": 4,
   "metadata": {},
   "outputs": [
    {
     "name": "stdout",
     "output_type": "stream",
     "text": [
      "g=-1.0000\n",
      "dg/da=3.0000\n",
      "dg/da=4.0000\n"
     ]
    }
   ],
   "source": [
    "a = me.Value(-4.0)\n",
    "b = me.Value(2.0)\n",
    "c = a + b\n",
    "c += c + 1\n",
    "c += 1 + c + (-a)\n",
    "g = c\n",
    "\n",
    "# prints the outcome of this forward pass\n",
    "print(f'g={g.data:.4f}') \n",
    "g.backward()\n",
    "# prints the numerical value of dg/da\n",
    "print(f'dg/da={a.grad:.4f}') \n",
    "# prints the numerical value of dg/db\n",
    "print(f'dg/da={b.grad:.4f}') "
   ]
  },
  {
   "cell_type": "code",
   "execution_count": 5,
   "metadata": {},
   "outputs": [
    {
     "name": "stdout",
     "output_type": "stream",
     "text": [
      "-2.0000\n",
      "-3.0000\n",
      "-1.0000\n"
     ]
    }
   ],
   "source": [
    "c = a + b\n",
    "print(f'{c.data:.4f}')\n",
    "c += c + 1\n",
    "print(f'{c.data:.4f}')\n",
    "c += 1 + c + (-a)\n",
    "print(f'{c.data:.4f}')"
   ]
  },
  {
   "cell_type": "markdown",
   "metadata": {},
   "source": [
    "#### Iteration #3"
   ]
  },
  {
   "cell_type": "code",
   "execution_count": 7,
   "metadata": {},
   "outputs": [
    {
     "name": "stdout",
     "output_type": "stream",
     "text": [
      "g=6.0000\n",
      "dg/da=23.0000\n",
      "dg/da=97.0000\n"
     ]
    }
   ],
   "source": [
    "a = me.Value(-4.0)\n",
    "b = me.Value(2.0)\n",
    "c = a + b\n",
    "c += c + 1\n",
    "c += 1 + c + (-a)\n",
    "d = a * b + b ** 3\n",
    "# print(f'{d.data:.4f}')\n",
    "d += d * 2 + (b + a).relu()\n",
    "# print(f'{d.data:.4f}')\n",
    "d += 3 * d + (b - a).relu()\n",
    "# print(f'{d.data:.4f}')\n",
    "g = d\n",
    "\n",
    "# prints the outcome of this forward pass\n",
    "print(f'g={g.data:.4f}') \n",
    "g.backward()\n",
    "# prints the numerical value of dg/da\n",
    "print(f'dg/da={a.grad:.4f}') \n",
    "# prints the numerical value of dg/db\n",
    "print(f'dg/da={b.grad:.4f}') "
   ]
  },
  {
   "cell_type": "markdown",
   "metadata": {},
   "source": [
    "#### Iteration #4"
   ]
  },
  {
   "cell_type": "code",
   "execution_count": 8,
   "metadata": {},
   "outputs": [
    {
     "name": "stdout",
     "output_type": "stream",
     "text": [
      "24.7041\n",
      "138.8338\n",
      "645.5773\n"
     ]
    }
   ],
   "source": [
    "a = me.Value(-4.0)\n",
    "b = me.Value(2.0)\n",
    "c = a + b\n",
    "d = a * b + b**3\n",
    "c += c + 1\n",
    "c += 1 + c + (-a)\n",
    "d += d * 2 + (b + a).relu()\n",
    "d += 3 * d + (b - a).relu()\n",
    "e = c - d\n",
    "f = e**2\n",
    "g = f / 2.0\n",
    "g += 10.0 / f\n",
    "print(f'{g.data:.4f}') # prints 24.7041, the outcome of this forward pass\n",
    "g.backward()\n",
    "print(f'{a.grad:.4f}') # prints 138.8338, i.e. the numerical value of dg/da\n",
    "print(f'{b.grad:.4f}') # prints 645.5773, i.e. the numerical value of dg/db"
   ]
  },
  {
   "cell_type": "markdown",
   "metadata": {},
   "source": [
    "## Building Micrograd - Part 1"
   ]
  },
  {
   "cell_type": "markdown",
   "metadata": {},
   "source": [
    "### A few functions"
   ]
  },
  {
   "cell_type": "markdown",
   "metadata": {},
   "source": [
    "#### A single variable function"
   ]
  },
  {
   "cell_type": "code",
   "execution_count": 9,
   "metadata": {},
   "outputs": [],
   "source": [
    "def f(x):\n",
    "  return 3 * x ** 2 - 4 * x + 5"
   ]
  },
  {
   "cell_type": "code",
   "execution_count": 10,
   "metadata": {},
   "outputs": [
    {
     "data": {
      "text/plain": [
       "(4, 20)"
      ]
     },
     "execution_count": 10,
     "metadata": {},
     "output_type": "execute_result"
    }
   ],
   "source": [
    "f(1), f(3)"
   ]
  },
  {
   "cell_type": "code",
   "execution_count": 11,
   "metadata": {},
   "outputs": [
    {
     "data": {
      "image/png": "[encoded data removed]",
      "text/plain": [
       "<Figure size 640x480 with 1 Axes>"
      ]
     },
     "metadata": {},
     "output_type": "display_data"
    }
   ],
   "source": [
    "# plot the function f\n",
    "x = np.linspace(-10, 10, 100)\n",
    "plt.plot(x, f(x))\n",
    "plt.xlabel('x')\n",
    "plt.ylabel('f(x)')\n",
    "plt.title('f(x) = 3x^2 - 4x + 5')\n",
    "plt.grid()"
   ]
  },
  {
   "cell_type": "code",
   "execution_count": 12,
   "metadata": {},
   "outputs": [
    {
     "data": {
      "text/plain": [
       "array([-2.19999970e+01,  1.40000030e+01,  2.99937852e-06])"
      ]
     },
     "execution_count": 12,
     "metadata": {},
     "output_type": "execute_result"
    }
   ],
   "source": [
    "h = 0.000001\n",
    "x = np.array([-3, 3, 2/3])\n",
    "(f(x + h) - f(x)) / h"
   ]
  },
  {
   "cell_type": "markdown",
   "metadata": {},
   "source": [
    "#### Multiple variable function"
   ]
  },
  {
   "cell_type": "code",
   "execution_count": 13,
   "metadata": {},
   "outputs": [
    {
     "name": "stdout",
     "output_type": "stream",
     "text": [
      "4.0\n"
     ]
    }
   ],
   "source": [
    "# les get more complex\n",
    "a = 2.0\n",
    "b = -3.0\n",
    "c = 10.0\n",
    "d = a * b + c\n",
    "print(d)"
   ]
  },
  {
   "cell_type": "code",
   "execution_count": 14,
   "metadata": {},
   "outputs": [
    {
     "name": "stdout",
     "output_type": "stream",
     "text": [
      "d1 4.0\n",
      "d2 3.999699999999999\n",
      "slope -3.000000000010772\n"
     ]
    }
   ],
   "source": [
    "h = 0.0001\n",
    "\n",
    "# inputs\n",
    "a = 2.0\n",
    "b = -3.0\n",
    "c = 10.0\n",
    "\n",
    "d1 = a*b + c\n",
    "a += h\n",
    "d2 = a*b + c\n",
    "\n",
    "print('d1', d1)\n",
    "print('d2', d2)\n",
    "print('slope', (d2 - d1)/h)"
   ]
  },
  {
   "cell_type": "markdown",
   "metadata": {},
   "source": [
    "### Building `Value` class step-by-step"
   ]
  },
  {
   "cell_type": "markdown",
   "metadata": {},
   "source": [
    "#### Addition and Multiplication"
   ]
  },
  {
   "cell_type": "code",
   "execution_count": 15,
   "metadata": {},
   "outputs": [],
   "source": [
    "a, b, c = Value(2.0), Value(-3.0), Value(10.0)\n",
    "d = a * b + c"
   ]
  },
  {
   "cell_type": "code",
   "execution_count": 16,
   "metadata": {},
   "outputs": [
    {
     "data": {
      "text/plain": [
       "(Value(data=4.0, grad=0),\n",
       " {Value(data=-6.0, grad=0), Value(data=10.0, grad=0)},\n",
       " '+')"
      ]
     },
     "execution_count": 16,
     "metadata": {},
     "output_type": "execute_result"
    }
   ],
   "source": [
    "d, d._prev, d._op"
   ]
  },
  {
   "cell_type": "markdown",
   "metadata": {},
   "source": [
    "#### DAG plotting"
   ]
  },
  {
   "cell_type": "code",
   "execution_count": 17,
   "metadata": {},
   "outputs": [
    {
     "data": {
      "text/plain": [
       "Value(data=-8.0, grad=0)"
      ]
     },
     "execution_count": 17,
     "metadata": {},
     "output_type": "execute_result"
    }
   ],
   "source": [
    "a = Value(2.0, label='a')\n",
    "b = Value(-3.0, label='b')\n",
    "c = Value(10.0, label='c')\n",
    "e = a * b; e.label = 'e'\n",
    "d = e + c; d.label = 'd'\n",
    "f = Value(-2.0, label='f')\n",
    "L = d * f; L.label = 'L'\n",
    "L"
   ]
  },
  {
   "cell_type": "code",
   "execution_count": 18,
   "metadata": {},
   "outputs": [
    {
     "data": {
      "image/svg+xml": [
       "<?xml version=\"1.0\" encoding=\"UTF-8\" standalone=\"no\"?>\n",
       "<!DOCTYPE svg PUBLIC \"-//W3C//DTD SVG 1.1//EN\"\n",
       " \"http://www.w3.org/Graphics/SVG/1.1/DTD/svg11.dtd\">\n",
       "<!-- Generated by graphviz version 9.0.0 (20230911.1827)\n",
       " -->\n",
       "<!-- Pages: 1 -->\n",
       "<svg width=\"822pt\" height=\"128pt\"\n",
       " viewBox=\"0.00 0.00 821.75 128.00\" xmlns=\"http://www.w3.org/2000/svg\" xmlns:xlink=\"http://www.w3.org/1999/xlink\">\n",
       "<g id=\"graph0\" class=\"graph\" transform=\"scale(1 1) rotate(0) translate(4 124)\">\n",
       "<polygon fill=\"white\" stroke=\"none\" points=\"-4,4 -4,-124 817.75,-124 817.75,4 -4,4\"/>\n",
       "<!-- 4538085888 -->\n",
       "<g id=\"node1\" class=\"node\">\n",
       "<title>4538085888</title>\n",
       "<polygon fill=\"none\" stroke=\"black\" points=\"630,-27.5 630,-63.5 813.75,-63.5 813.75,-27.5 630,-27.5\"/>\n",
       "<text text-anchor=\"middle\" x=\"641.38\" y=\"-40.7\" font-family=\"Times,serif\" font-size=\"14.00\">d</text>\n",
       "<polyline fill=\"none\" stroke=\"black\" points=\"652.75,-28 652.75,-63.5\"/>\n",
       "<text text-anchor=\"middle\" x=\"692.62\" y=\"-40.7\" font-family=\"Times,serif\" font-size=\"14.00\">data 4.0000</text>\n",
       "<polyline fill=\"none\" stroke=\"black\" points=\"732.5,-28 732.5,-63.5\"/>\n",
       "<text text-anchor=\"middle\" x=\"773.12\" y=\"-40.7\" font-family=\"Times,serif\" font-size=\"14.00\">grad 0.0000</text>\n",
       "</g>\n",
       "<!-- 4538085888+ -->\n",
       "<g id=\"node2\" class=\"node\">\n",
       "<title>4538085888+</title>\n",
       "<ellipse fill=\"none\" stroke=\"black\" cx=\"567\" cy=\"-45.5\" rx=\"27\" ry=\"18\"/>\n",
       "<text text-anchor=\"middle\" x=\"567\" y=\"-40.45\" font-family=\"Times,serif\" font-size=\"14.00\">+</text>\n",
       "</g>\n",
       "<!-- 4538085888+&#45;&gt;4538085888 -->\n",
       "<g id=\"edge1\" class=\"edge\">\n",
       "<title>4538085888+&#45;&gt;4538085888</title>\n",
       "<path fill=\"none\" stroke=\"black\" d=\"M594.28,-45.5C601.42,-45.5 609.61,-45.5 618.32,-45.5\"/>\n",
       "<polygon fill=\"black\" stroke=\"black\" points=\"618.06,-49 628.06,-45.5 618.06,-42 618.06,-49\"/>\n",
       "</g>\n",
       "<!-- 4538084928 -->\n",
       "<g id=\"node3\" class=\"node\">\n",
       "<title>4538084928</title>\n",
       "<polygon fill=\"none\" stroke=\"black\" points=\"0,-83.5 0,-119.5 188.25,-119.5 188.25,-83.5 0,-83.5\"/>\n",
       "<text text-anchor=\"middle\" x=\"11.38\" y=\"-96.7\" font-family=\"Times,serif\" font-size=\"14.00\">b</text>\n",
       "<polyline fill=\"none\" stroke=\"black\" points=\"22.75,-84 22.75,-119.5\"/>\n",
       "<text text-anchor=\"middle\" x=\"64.88\" y=\"-96.7\" font-family=\"Times,serif\" font-size=\"14.00\">data &#45;3.0000</text>\n",
       "<polyline fill=\"none\" stroke=\"black\" points=\"107,-84 107,-119.5\"/>\n",
       "<text text-anchor=\"middle\" x=\"147.62\" y=\"-96.7\" font-family=\"Times,serif\" font-size=\"14.00\">grad 0.0000</text>\n",
       "</g>\n",
       "<!-- 4538075232* -->\n",
       "<g id=\"node5\" class=\"node\">\n",
       "<title>4538075232*</title>\n",
       "<ellipse fill=\"none\" stroke=\"black\" cx=\"251.25\" cy=\"-73.5\" rx=\"27\" ry=\"18\"/>\n",
       "<text text-anchor=\"middle\" x=\"251.25\" y=\"-68.45\" font-family=\"Times,serif\" font-size=\"14.00\">*</text>\n",
       "</g>\n",
       "<!-- 4538084928&#45;&gt;4538075232* -->\n",
       "<g id=\"edge4\" class=\"edge\">\n",
       "<title>4538084928&#45;&gt;4538075232*</title>\n",
       "<path fill=\"none\" stroke=\"black\" d=\"M188.49,-84.65C197.36,-83.05 205.93,-81.5 213.73,-80.09\"/>\n",
       "<polygon fill=\"black\" stroke=\"black\" points=\"214.2,-83.56 223.42,-78.34 212.95,-76.68 214.2,-83.56\"/>\n",
       "</g>\n",
       "<!-- 4538075232 -->\n",
       "<g id=\"node4\" class=\"node\">\n",
       "<title>4538075232</title>\n",
       "<polygon fill=\"none\" stroke=\"black\" points=\"315.38,-55.5 315.38,-91.5 502.88,-91.5 502.88,-55.5 315.38,-55.5\"/>\n",
       "<text text-anchor=\"middle\" x=\"326.38\" y=\"-68.7\" font-family=\"Times,serif\" font-size=\"14.00\">e</text>\n",
       "<polyline fill=\"none\" stroke=\"black\" points=\"337.38,-56 337.38,-91.5\"/>\n",
       "<text text-anchor=\"middle\" x=\"379.5\" y=\"-68.7\" font-family=\"Times,serif\" font-size=\"14.00\">data &#45;6.0000</text>\n",
       "<polyline fill=\"none\" stroke=\"black\" points=\"421.62,-56 421.62,-91.5\"/>\n",
       "<text text-anchor=\"middle\" x=\"462.25\" y=\"-68.7\" font-family=\"Times,serif\" font-size=\"14.00\">grad 0.0000</text>\n",
       "</g>\n",
       "<!-- 4538075232&#45;&gt;4538085888+ -->\n",
       "<g id=\"edge5\" class=\"edge\">\n",
       "<title>4538075232&#45;&gt;4538085888+</title>\n",
       "<path fill=\"none\" stroke=\"black\" d=\"M503.05,-56.81C512.25,-55.16 521.16,-53.56 529.24,-52.1\"/>\n",
       "<polygon fill=\"black\" stroke=\"black\" points=\"529.71,-55.58 538.93,-50.36 528.47,-48.69 529.71,-55.58\"/>\n",
       "</g>\n",
       "<!-- 4538075232*&#45;&gt;4538075232 -->\n",
       "<g id=\"edge2\" class=\"edge\">\n",
       "<title>4538075232*&#45;&gt;4538075232</title>\n",
       "<path fill=\"none\" stroke=\"black\" d=\"M278.69,-73.5C286.1,-73.5 294.64,-73.5 303.71,-73.5\"/>\n",
       "<polygon fill=\"black\" stroke=\"black\" points=\"303.51,-77 313.51,-73.5 303.51,-70 303.51,-77\"/>\n",
       "</g>\n",
       "<!-- 4538076864 -->\n",
       "<g id=\"node6\" class=\"node\">\n",
       "<title>4538076864</title>\n",
       "<polygon fill=\"none\" stroke=\"black\" points=\"314.25,-0.5 314.25,-36.5 504,-36.5 504,-0.5 314.25,-0.5\"/>\n",
       "<text text-anchor=\"middle\" x=\"325.25\" y=\"-13.7\" font-family=\"Times,serif\" font-size=\"14.00\">c</text>\n",
       "<polyline fill=\"none\" stroke=\"black\" points=\"336.25,-1 336.25,-36.5\"/>\n",
       "<text text-anchor=\"middle\" x=\"379.5\" y=\"-13.7\" font-family=\"Times,serif\" font-size=\"14.00\">data 10.0000</text>\n",
       "<polyline fill=\"none\" stroke=\"black\" points=\"422.75,-1 422.75,-36.5\"/>\n",
       "<text text-anchor=\"middle\" x=\"463.38\" y=\"-13.7\" font-family=\"Times,serif\" font-size=\"14.00\">grad 0.0000</text>\n",
       "</g>\n",
       "<!-- 4538076864&#45;&gt;4538085888+ -->\n",
       "<g id=\"edge3\" class=\"edge\">\n",
       "<title>4538076864&#45;&gt;4538085888+</title>\n",
       "<path fill=\"none\" stroke=\"black\" d=\"M504.39,-34.83C513.16,-36.35 521.65,-37.82 529.37,-39.15\"/>\n",
       "<polygon fill=\"black\" stroke=\"black\" points=\"528.5,-42.56 538.95,-40.81 529.69,-35.66 528.5,-42.56\"/>\n",
       "</g>\n",
       "<!-- 4538087808 -->\n",
       "<g id=\"node7\" class=\"node\">\n",
       "<title>4538087808</title>\n",
       "<polygon fill=\"none\" stroke=\"black\" points=\"2.62,-28.5 2.62,-64.5 185.62,-64.5 185.62,-28.5 2.62,-28.5\"/>\n",
       "<text text-anchor=\"middle\" x=\"13.62\" y=\"-41.7\" font-family=\"Times,serif\" font-size=\"14.00\">a</text>\n",
       "<polyline fill=\"none\" stroke=\"black\" points=\"24.62,-29 24.62,-64.5\"/>\n",
       "<text text-anchor=\"middle\" x=\"64.5\" y=\"-41.7\" font-family=\"Times,serif\" font-size=\"14.00\">data 2.0000</text>\n",
       "<polyline fill=\"none\" stroke=\"black\" points=\"104.38,-29 104.38,-64.5\"/>\n",
       "<text text-anchor=\"middle\" x=\"145\" y=\"-41.7\" font-family=\"Times,serif\" font-size=\"14.00\">grad 0.0000</text>\n",
       "</g>\n",
       "<!-- 4538087808&#45;&gt;4538075232* -->\n",
       "<g id=\"edge6\" class=\"edge\">\n",
       "<title>4538087808&#45;&gt;4538075232*</title>\n",
       "<path fill=\"none\" stroke=\"black\" d=\"M185.81,-62.28C195.45,-63.96 204.82,-65.59 213.29,-67.07\"/>\n",
       "<polygon fill=\"black\" stroke=\"black\" points=\"212.65,-70.51 223.1,-68.77 213.85,-63.61 212.65,-70.51\"/>\n",
       "</g>\n",
       "</g>\n",
       "</svg>\n"
      ],
      "text/plain": [
       "<graphviz.graphs.Digraph at 0x10e7a8f50>"
      ]
     },
     "execution_count": 18,
     "metadata": {},
     "output_type": "execute_result"
    }
   ],
   "source": [
    "gp.draw_dot(d)  "
   ]
  },
  {
   "cell_type": "markdown",
   "metadata": {},
   "source": [
    "#### Gradient estimation"
   ]
  },
  {
   "cell_type": "code",
   "execution_count": 41,
   "metadata": {},
   "outputs": [],
   "source": [
    "def lol():\n",
    "  \n",
    "    h = 0.001\n",
    "\n",
    "    aa = Value(2.0, label='a')\n",
    "    bb = Value(-3.0, label='b')\n",
    "    cc = Value(10.0, label='c')\n",
    "    ee = aa * bb; ee.label = 'e'\n",
    "    dd = ee + cc; dd.label = 'd'\n",
    "    ff = Value(-2.0, label='f')\n",
    "    LL = dd * ff; LL.label = 'L'\n",
    "    L1 = LL.data\n",
    "\n",
    "    aa = Value(2.0, label='a')\n",
    "    bb = Value(-3.0+h, label='b')\n",
    "    cc = Value(10.0, label='c')\n",
    "    ee = aa * bb; ee.label = 'e'; \n",
    "    dd = ee + cc; dd.label = 'd'\n",
    "    ff = Value(-2.0, label='f')\n",
    "    LL = dd * ff; LL.label = 'L'\n",
    "    L2 = LL.data\n",
    "\n",
    "    print((L2 - L1)/h)"
   ]
  },
  {
   "cell_type": "code",
   "execution_count": 42,
   "metadata": {},
   "outputs": [
    {
     "name": "stdout",
     "output_type": "stream",
     "text": [
      "-3.9999999999995595\n"
     ]
    }
   ],
   "source": [
    "lol()"
   ]
  },
  {
   "cell_type": "markdown",
   "metadata": {},
   "source": [
    "#### Manual gradient backprop"
   ]
  },
  {
   "cell_type": "code",
   "execution_count": 23,
   "metadata": {},
   "outputs": [
    {
     "data": {
      "text/plain": [
       "Value(data=-8.0, grad=0)"
      ]
     },
     "execution_count": 23,
     "metadata": {},
     "output_type": "execute_result"
    }
   ],
   "source": [
    "a = Value(2.0, label='a')\n",
    "b = Value(-3.0, label='b')\n",
    "c = Value(10.0, label='c')\n",
    "e = a * b; e.label = 'e'\n",
    "d = e + c; d.label = 'd'\n",
    "f = Value(-2.0, label='f')\n",
    "L = d * f; L.label = 'L'\n",
    "L"
   ]
  },
  {
   "cell_type": "code",
   "execution_count": 43,
   "metadata": {},
   "outputs": [],
   "source": [
    "L.grad = 1.0\n",
    "d.grad = f.data * L.grad\n",
    "f.grad = d.data * L.grad\n",
    "e.grad = d.grad\n",
    "c.grad = d.grad\n",
    "b.grad = e.grad * a.data\n",
    "a.grad = e.grad * b.data\n"
   ]
  },
  {
   "cell_type": "code",
   "execution_count": 44,
   "metadata": {},
   "outputs": [
    {
     "data": {
      "image/svg+xml": [
       "<?xml version=\"1.0\" encoding=\"UTF-8\" standalone=\"no\"?>\n",
       "<!DOCTYPE svg PUBLIC \"-//W3C//DTD SVG 1.1//EN\"\n",
       " \"http://www.w3.org/Graphics/SVG/1.1/DTD/svg11.dtd\">\n",
       "<!-- Generated by graphviz version 9.0.0 (20230911.1827)\n",
       " -->\n",
       "<!-- Pages: 1 -->\n",
       "<svg width=\"1151pt\" height=\"128pt\"\n",
       " viewBox=\"0.00 0.00 1151.00 128.00\" xmlns=\"http://www.w3.org/2000/svg\" xmlns:xlink=\"http://www.w3.org/1999/xlink\">\n",
       "<g id=\"graph0\" class=\"graph\" transform=\"scale(1 1) rotate(0) translate(4 124)\">\n",
       "<polygon fill=\"white\" stroke=\"none\" points=\"-4,4 -4,-124 1147,-124 1147,4 -4,4\"/>\n",
       "<!-- 4537887744 -->\n",
       "<g id=\"node1\" class=\"node\">\n",
       "<title>4537887744</title>\n",
       "<polygon fill=\"none\" stroke=\"black\" points=\"640.12,-82.5 640.12,-118.5 826.12,-118.5 826.12,-82.5 640.12,-82.5\"/>\n",
       "<text text-anchor=\"middle\" x=\"650.38\" y=\"-95.7\" font-family=\"Times,serif\" font-size=\"14.00\">f</text>\n",
       "<polyline fill=\"none\" stroke=\"black\" points=\"660.62,-83 660.62,-118.5\"/>\n",
       "<text text-anchor=\"middle\" x=\"702.75\" y=\"-95.7\" font-family=\"Times,serif\" font-size=\"14.00\">data &#45;2.0000</text>\n",
       "<polyline fill=\"none\" stroke=\"black\" points=\"744.88,-83 744.88,-118.5\"/>\n",
       "<text text-anchor=\"middle\" x=\"785.5\" y=\"-95.7\" font-family=\"Times,serif\" font-size=\"14.00\">grad 4.0000</text>\n",
       "</g>\n",
       "<!-- 4538075856* -->\n",
       "<g id=\"node6\" class=\"node\">\n",
       "<title>4538075856*</title>\n",
       "<ellipse fill=\"none\" stroke=\"black\" cx=\"890.25\" cy=\"-72.5\" rx=\"27\" ry=\"18\"/>\n",
       "<text text-anchor=\"middle\" x=\"890.25\" y=\"-67.45\" font-family=\"Times,serif\" font-size=\"14.00\">*</text>\n",
       "</g>\n",
       "<!-- 4537887744&#45;&gt;4538075856* -->\n",
       "<g id=\"edge7\" class=\"edge\">\n",
       "<title>4537887744&#45;&gt;4538075856*</title>\n",
       "<path fill=\"none\" stroke=\"black\" d=\"M826.6,-83.81C835.76,-82.16 844.62,-80.56 852.67,-79.1\"/>\n",
       "<polygon fill=\"black\" stroke=\"black\" points=\"853.09,-82.58 862.31,-77.36 851.84,-75.7 853.09,-82.58\"/>\n",
       "</g>\n",
       "<!-- 4537902976 -->\n",
       "<g id=\"node2\" class=\"node\">\n",
       "<title>4537902976</title>\n",
       "<polygon fill=\"none\" stroke=\"black\" points=\"0,-83.5 0,-119.5 192.75,-119.5 192.75,-83.5 0,-83.5\"/>\n",
       "<text text-anchor=\"middle\" x=\"11.38\" y=\"-96.7\" font-family=\"Times,serif\" font-size=\"14.00\">b</text>\n",
       "<polyline fill=\"none\" stroke=\"black\" points=\"22.75,-84 22.75,-119.5\"/>\n",
       "<text text-anchor=\"middle\" x=\"64.88\" y=\"-96.7\" font-family=\"Times,serif\" font-size=\"14.00\">data &#45;3.0000</text>\n",
       "<polyline fill=\"none\" stroke=\"black\" points=\"107,-84 107,-119.5\"/>\n",
       "<text text-anchor=\"middle\" x=\"149.88\" y=\"-96.7\" font-family=\"Times,serif\" font-size=\"14.00\">grad &#45;4.0000</text>\n",
       "</g>\n",
       "<!-- 4537884528* -->\n",
       "<g id=\"node8\" class=\"node\">\n",
       "<title>4537884528*</title>\n",
       "<ellipse fill=\"none\" stroke=\"black\" cx=\"255.75\" cy=\"-73.5\" rx=\"27\" ry=\"18\"/>\n",
       "<text text-anchor=\"middle\" x=\"255.75\" y=\"-68.45\" font-family=\"Times,serif\" font-size=\"14.00\">*</text>\n",
       "</g>\n",
       "<!-- 4537902976&#45;&gt;4537884528* -->\n",
       "<g id=\"edge8\" class=\"edge\">\n",
       "<title>4537902976&#45;&gt;4537884528*</title>\n",
       "<path fill=\"none\" stroke=\"black\" d=\"M193,-84.49C201.81,-82.92 210.32,-81.41 218.06,-80.03\"/>\n",
       "<polygon fill=\"black\" stroke=\"black\" points=\"218.43,-83.52 227.66,-78.32 217.21,-76.62 218.43,-83.52\"/>\n",
       "</g>\n",
       "<!-- 4537880784 -->\n",
       "<g id=\"node3\" class=\"node\">\n",
       "<title>4537880784</title>\n",
       "<polygon fill=\"none\" stroke=\"black\" points=\"639,-27.5 639,-63.5 827.25,-63.5 827.25,-27.5 639,-27.5\"/>\n",
       "<text text-anchor=\"middle\" x=\"650.38\" y=\"-40.7\" font-family=\"Times,serif\" font-size=\"14.00\">d</text>\n",
       "<polyline fill=\"none\" stroke=\"black\" points=\"661.75,-28 661.75,-63.5\"/>\n",
       "<text text-anchor=\"middle\" x=\"701.62\" y=\"-40.7\" font-family=\"Times,serif\" font-size=\"14.00\">data 4.0000</text>\n",
       "<polyline fill=\"none\" stroke=\"black\" points=\"741.5,-28 741.5,-63.5\"/>\n",
       "<text text-anchor=\"middle\" x=\"784.38\" y=\"-40.7\" font-family=\"Times,serif\" font-size=\"14.00\">grad &#45;2.0000</text>\n",
       "</g>\n",
       "<!-- 4537880784&#45;&gt;4538075856* -->\n",
       "<g id=\"edge6\" class=\"edge\">\n",
       "<title>4537880784&#45;&gt;4538075856*</title>\n",
       "<path fill=\"none\" stroke=\"black\" d=\"M827.49,-61.75C836.27,-63.28 844.77,-64.76 852.51,-66.1\"/>\n",
       "<polygon fill=\"black\" stroke=\"black\" points=\"851.66,-69.51 862.11,-67.78 852.86,-62.61 851.66,-69.51\"/>\n",
       "</g>\n",
       "<!-- 4537880784+ -->\n",
       "<g id=\"node4\" class=\"node\">\n",
       "<title>4537880784+</title>\n",
       "<ellipse fill=\"none\" stroke=\"black\" cx=\"576\" cy=\"-45.5\" rx=\"27\" ry=\"18\"/>\n",
       "<text text-anchor=\"middle\" x=\"576\" y=\"-40.45\" font-family=\"Times,serif\" font-size=\"14.00\">+</text>\n",
       "</g>\n",
       "<!-- 4537880784+&#45;&gt;4537880784 -->\n",
       "<g id=\"edge1\" class=\"edge\">\n",
       "<title>4537880784+&#45;&gt;4537880784</title>\n",
       "<path fill=\"none\" stroke=\"black\" d=\"M603.31,-45.5C610.49,-45.5 618.72,-45.5 627.47,-45.5\"/>\n",
       "<polygon fill=\"black\" stroke=\"black\" points=\"627.29,-49 637.29,-45.5 627.29,-42 627.29,-49\"/>\n",
       "</g>\n",
       "<!-- 4538075856 -->\n",
       "<g id=\"node5\" class=\"node\">\n",
       "<title>4538075856</title>\n",
       "<polygon fill=\"none\" stroke=\"black\" points=\"953.25,-54.5 953.25,-90.5 1143,-90.5 1143,-54.5 953.25,-54.5\"/>\n",
       "<text text-anchor=\"middle\" x=\"965.38\" y=\"-67.7\" font-family=\"Times,serif\" font-size=\"14.00\">L</text>\n",
       "<polyline fill=\"none\" stroke=\"black\" points=\"977.5,-55 977.5,-90.5\"/>\n",
       "<text text-anchor=\"middle\" x=\"1019.62\" y=\"-67.7\" font-family=\"Times,serif\" font-size=\"14.00\">data &#45;8.0000</text>\n",
       "<polyline fill=\"none\" stroke=\"black\" points=\"1061.75,-55 1061.75,-90.5\"/>\n",
       "<text text-anchor=\"middle\" x=\"1102.38\" y=\"-67.7\" font-family=\"Times,serif\" font-size=\"14.00\">grad 1.0000</text>\n",
       "</g>\n",
       "<!-- 4538075856*&#45;&gt;4538075856 -->\n",
       "<g id=\"edge2\" class=\"edge\">\n",
       "<title>4538075856*&#45;&gt;4538075856</title>\n",
       "<path fill=\"none\" stroke=\"black\" d=\"M917.69,-72.5C924.84,-72.5 933.03,-72.5 941.74,-72.5\"/>\n",
       "<polygon fill=\"black\" stroke=\"black\" points=\"941.51,-76 951.51,-72.5 941.51,-69 941.51,-76\"/>\n",
       "</g>\n",
       "<!-- 4537884528 -->\n",
       "<g id=\"node7\" class=\"node\">\n",
       "<title>4537884528</title>\n",
       "<polygon fill=\"none\" stroke=\"black\" points=\"319.88,-55.5 319.88,-91.5 511.88,-91.5 511.88,-55.5 319.88,-55.5\"/>\n",
       "<text text-anchor=\"middle\" x=\"330.88\" y=\"-68.7\" font-family=\"Times,serif\" font-size=\"14.00\">e</text>\n",
       "<polyline fill=\"none\" stroke=\"black\" points=\"341.88,-56 341.88,-91.5\"/>\n",
       "<text text-anchor=\"middle\" x=\"384\" y=\"-68.7\" font-family=\"Times,serif\" font-size=\"14.00\">data &#45;6.0000</text>\n",
       "<polyline fill=\"none\" stroke=\"black\" points=\"426.12,-56 426.12,-91.5\"/>\n",
       "<text text-anchor=\"middle\" x=\"469\" y=\"-68.7\" font-family=\"Times,serif\" font-size=\"14.00\">grad &#45;2.0000</text>\n",
       "</g>\n",
       "<!-- 4537884528&#45;&gt;4537880784+ -->\n",
       "<g id=\"edge4\" class=\"edge\">\n",
       "<title>4537884528&#45;&gt;4537880784+</title>\n",
       "<path fill=\"none\" stroke=\"black\" d=\"M512.05,-56.65C521.28,-55.01 530.2,-53.43 538.29,-52\"/>\n",
       "<polygon fill=\"black\" stroke=\"black\" points=\"538.74,-55.47 547.98,-50.28 537.52,-48.58 538.74,-55.47\"/>\n",
       "</g>\n",
       "<!-- 4537884528*&#45;&gt;4537884528 -->\n",
       "<g id=\"edge3\" class=\"edge\">\n",
       "<title>4537884528*&#45;&gt;4537884528</title>\n",
       "<path fill=\"none\" stroke=\"black\" d=\"M283.22,-73.5C290.59,-73.5 299.09,-73.5 308.13,-73.5\"/>\n",
       "<polygon fill=\"black\" stroke=\"black\" points=\"307.89,-77 317.89,-73.5 307.89,-70 307.89,-77\"/>\n",
       "</g>\n",
       "<!-- 4538452352 -->\n",
       "<g id=\"node9\" class=\"node\">\n",
       "<title>4538452352</title>\n",
       "<polygon fill=\"none\" stroke=\"black\" points=\"4.88,-28.5 4.88,-64.5 187.88,-64.5 187.88,-28.5 4.88,-28.5\"/>\n",
       "<text text-anchor=\"middle\" x=\"15.88\" y=\"-41.7\" font-family=\"Times,serif\" font-size=\"14.00\">a</text>\n",
       "<polyline fill=\"none\" stroke=\"black\" points=\"26.88,-29 26.88,-64.5\"/>\n",
       "<text text-anchor=\"middle\" x=\"66.75\" y=\"-41.7\" font-family=\"Times,serif\" font-size=\"14.00\">data 2.0000</text>\n",
       "<polyline fill=\"none\" stroke=\"black\" points=\"106.62,-29 106.62,-64.5\"/>\n",
       "<text text-anchor=\"middle\" x=\"147.25\" y=\"-41.7\" font-family=\"Times,serif\" font-size=\"14.00\">grad 6.0000</text>\n",
       "</g>\n",
       "<!-- 4538452352&#45;&gt;4537884528* -->\n",
       "<g id=\"edge5\" class=\"edge\">\n",
       "<title>4538452352&#45;&gt;4537884528*</title>\n",
       "<path fill=\"none\" stroke=\"black\" d=\"M188.01,-62.05C198.46,-63.84 208.62,-65.59 217.74,-67.15\"/>\n",
       "<polygon fill=\"black\" stroke=\"black\" points=\"217.11,-70.59 227.56,-68.84 218.3,-63.69 217.11,-70.59\"/>\n",
       "</g>\n",
       "<!-- 4537887696 -->\n",
       "<g id=\"node10\" class=\"node\">\n",
       "<title>4537887696</title>\n",
       "<polygon fill=\"none\" stroke=\"black\" points=\"318.75,-0.5 318.75,-36.5 513,-36.5 513,-0.5 318.75,-0.5\"/>\n",
       "<text text-anchor=\"middle\" x=\"329.75\" y=\"-13.7\" font-family=\"Times,serif\" font-size=\"14.00\">c</text>\n",
       "<polyline fill=\"none\" stroke=\"black\" points=\"340.75,-1 340.75,-36.5\"/>\n",
       "<text text-anchor=\"middle\" x=\"384\" y=\"-13.7\" font-family=\"Times,serif\" font-size=\"14.00\">data 10.0000</text>\n",
       "<polyline fill=\"none\" stroke=\"black\" points=\"427.25,-1 427.25,-36.5\"/>\n",
       "<text text-anchor=\"middle\" x=\"470.12\" y=\"-13.7\" font-family=\"Times,serif\" font-size=\"14.00\">grad &#45;2.0000</text>\n",
       "</g>\n",
       "<!-- 4537887696&#45;&gt;4537880784+ -->\n",
       "<g id=\"edge9\" class=\"edge\">\n",
       "<title>4537887696&#45;&gt;4537880784+</title>\n",
       "<path fill=\"none\" stroke=\"black\" d=\"M513.41,-34.98C522.1,-36.47 530.5,-37.9 538.15,-39.21\"/>\n",
       "<polygon fill=\"black\" stroke=\"black\" points=\"537.55,-42.66 548,-40.89 538.73,-35.76 537.55,-42.66\"/>\n",
       "</g>\n",
       "</g>\n",
       "</svg>\n"
      ],
      "text/plain": [
       "<graphviz.graphs.Digraph at 0x10e7d9dc0>"
      ]
     },
     "execution_count": 44,
     "metadata": {},
     "output_type": "execute_result"
    }
   ],
   "source": [
    "gp.draw_dot(L) "
   ]
  }
 ],
 "metadata": {
  "kernelspec": {
   "display_name": "venv",
   "language": "python",
   "name": "python3"
  },
  "language_info": {
   "codemirror_mode": {
    "name": "ipython",
    "version": 3
   },
   "file_extension": ".py",
   "mimetype": "text/x-python",
   "name": "python",
   "nbconvert_exporter": "python",
   "pygments_lexer": "ipython3",
   "version": "3.12.4"
  }
 },
 "nbformat": 4,
 "nbformat_minor": 2
}
